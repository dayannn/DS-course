{
 "cells": [
  {
   "cell_type": "code",
   "execution_count": 738,
   "metadata": {},
   "outputs": [],
   "source": [
    "import numpy as np\n",
    "from sklearn.preprocessing import StandardScaler\n",
    "from keras.datasets import mnist\n",
    "from keras.models import Sequential\n",
    "from keras.layers import Dense\n",
    "from keras.utils import np_utils\n",
    "import keras"
   ]
  },
  {
   "cell_type": "code",
   "execution_count": 739,
   "metadata": {},
   "outputs": [],
   "source": [
    "np.random.seed(42)"
   ]
  },
  {
   "cell_type": "code",
   "execution_count": 740,
   "metadata": {},
   "outputs": [
    {
     "data": {
      "text/plain": [
       "(303, 14)"
      ]
     },
     "execution_count": 740,
     "metadata": {},
     "output_type": "execute_result"
    }
   ],
   "source": [
    "import pandas as pd\n",
    "dataset = pd.read_csv(\"./heart-disease/heart.csv\")\n",
    "dataset.shape"
   ]
  },
  {
   "cell_type": "code",
   "execution_count": 741,
   "metadata": {},
   "outputs": [],
   "source": [
    "X, y = dataset.iloc[:, :-1], dataset.loc[:, 'target']"
   ]
  },
  {
   "cell_type": "code",
   "execution_count": 742,
   "metadata": {},
   "outputs": [],
   "source": [
    "from sklearn.linear_model import LogisticRegression\n",
    "from sklearn.model_selection import train_test_split\n",
    "\n",
    "X_train, X_test, y_train, y_test = train_test_split(X, y, test_size=0.2, random_state=86)\n"
   ]
  },
  {
   "cell_type": "code",
   "execution_count": 743,
   "metadata": {},
   "outputs": [],
   "source": [
    "#y_train = np_utils.to_categorical(y_train, 2)\n",
    "#y_test = np_utils.to_categorical(y_test, 2)"
   ]
  },
  {
   "cell_type": "code",
   "execution_count": 744,
   "metadata": {},
   "outputs": [],
   "source": [
    "scaler = StandardScaler()\n",
    "\n",
    "X_train_scaled = scaler.fit_transform(X_train)\n",
    "X_test_scaled = scaler.transform(X_test)\n"
   ]
  },
  {
   "cell_type": "code",
   "execution_count": 745,
   "metadata": {},
   "outputs": [],
   "source": [
    "model = Sequential()\n",
    "model.add(Dense(44, input_dim=13, kernel_initializer='random_normal', activation='relu'))\n",
    "#model.add(Dense(1, input_dim=44, kernel_initializer='random_normal', activation='relu'))\n",
    "model.add(Dense(1, kernel_initializer='normal', activation='sigmoid'))\n",
    "model.compile(loss='binary_crossentropy', optimizer='adam', metrics=['accuracy'])\n"
   ]
  },
  {
   "cell_type": "code",
   "execution_count": 746,
   "metadata": {},
   "outputs": [
    {
     "name": "stdout",
     "output_type": "stream",
     "text": [
      "_________________________________________________________________\n",
      "Layer (type)                 Output Shape              Param #   \n",
      "=================================================================\n",
      "dense_159 (Dense)            (None, 44)                616       \n",
      "_________________________________________________________________\n",
      "dense_160 (Dense)            (None, 1)                 45        \n",
      "=================================================================\n",
      "Total params: 661\n",
      "Trainable params: 661\n",
      "Non-trainable params: 0\n",
      "_________________________________________________________________\n",
      "None\n"
     ]
    }
   ],
   "source": [
    "print(model.summary())"
   ]
  },
  {
   "cell_type": "code",
   "execution_count": 747,
   "metadata": {},
   "outputs": [
    {
     "data": {
      "image/svg+xml": [
       "<svg height=\"211pt\" viewBox=\"0.00 0.00 259.00 211.00\" width=\"259pt\" xmlns=\"http://www.w3.org/2000/svg\" xmlns:xlink=\"http://www.w3.org/1999/xlink\">\n",
       "<g class=\"graph\" id=\"graph0\" transform=\"scale(1 1) rotate(0) translate(4 207)\">\n",
       "<title>G</title>\n",
       "<polygon fill=\"white\" points=\"-4,4 -4,-207 255,-207 255,4 -4,4\" stroke=\"none\"/>\n",
       "<!-- 1944345369176 -->\n",
       "<g class=\"node\" id=\"node1\"><title>1944345369176</title>\n",
       "<polygon fill=\"none\" points=\"0,-83.5 0,-129.5 251,-129.5 251,-83.5 0,-83.5\" stroke=\"black\"/>\n",
       "<text font-family=\"Times New Roman,serif\" font-size=\"14.00\" text-anchor=\"middle\" x=\"59\" y=\"-102.8\">dense_159: Dense</text>\n",
       "<polyline fill=\"none\" points=\"118,-83.5 118,-129.5 \" stroke=\"black\"/>\n",
       "<text font-family=\"Times New Roman,serif\" font-size=\"14.00\" text-anchor=\"middle\" x=\"146\" y=\"-114.3\">input:</text>\n",
       "<polyline fill=\"none\" points=\"118,-106.5 174,-106.5 \" stroke=\"black\"/>\n",
       "<text font-family=\"Times New Roman,serif\" font-size=\"14.00\" text-anchor=\"middle\" x=\"146\" y=\"-91.3\">output:</text>\n",
       "<polyline fill=\"none\" points=\"174,-83.5 174,-129.5 \" stroke=\"black\"/>\n",
       "<text font-family=\"Times New Roman,serif\" font-size=\"14.00\" text-anchor=\"middle\" x=\"212.5\" y=\"-114.3\">(None, 13)</text>\n",
       "<polyline fill=\"none\" points=\"174,-106.5 251,-106.5 \" stroke=\"black\"/>\n",
       "<text font-family=\"Times New Roman,serif\" font-size=\"14.00\" text-anchor=\"middle\" x=\"212.5\" y=\"-91.3\">(None, 44)</text>\n",
       "</g>\n",
       "<!-- 1944345369288 -->\n",
       "<g class=\"node\" id=\"node2\"><title>1944345369288</title>\n",
       "<polygon fill=\"none\" points=\"0,-0.5 0,-46.5 251,-46.5 251,-0.5 0,-0.5\" stroke=\"black\"/>\n",
       "<text font-family=\"Times New Roman,serif\" font-size=\"14.00\" text-anchor=\"middle\" x=\"59\" y=\"-19.8\">dense_160: Dense</text>\n",
       "<polyline fill=\"none\" points=\"118,-0.5 118,-46.5 \" stroke=\"black\"/>\n",
       "<text font-family=\"Times New Roman,serif\" font-size=\"14.00\" text-anchor=\"middle\" x=\"146\" y=\"-31.3\">input:</text>\n",
       "<polyline fill=\"none\" points=\"118,-23.5 174,-23.5 \" stroke=\"black\"/>\n",
       "<text font-family=\"Times New Roman,serif\" font-size=\"14.00\" text-anchor=\"middle\" x=\"146\" y=\"-8.3\">output:</text>\n",
       "<polyline fill=\"none\" points=\"174,-0.5 174,-46.5 \" stroke=\"black\"/>\n",
       "<text font-family=\"Times New Roman,serif\" font-size=\"14.00\" text-anchor=\"middle\" x=\"212.5\" y=\"-31.3\">(None, 44)</text>\n",
       "<polyline fill=\"none\" points=\"174,-23.5 251,-23.5 \" stroke=\"black\"/>\n",
       "<text font-family=\"Times New Roman,serif\" font-size=\"14.00\" text-anchor=\"middle\" x=\"212.5\" y=\"-8.3\">(None, 1)</text>\n",
       "</g>\n",
       "<!-- 1944345369176&#45;&gt;1944345369288 -->\n",
       "<g class=\"edge\" id=\"edge2\"><title>1944345369176-&gt;1944345369288</title>\n",
       "<path d=\"M125.5,-83.3664C125.5,-75.1516 125.5,-65.6579 125.5,-56.7252\" fill=\"none\" stroke=\"black\"/>\n",
       "<polygon fill=\"black\" points=\"129,-56.6068 125.5,-46.6068 122,-56.6069 129,-56.6068\" stroke=\"black\"/>\n",
       "</g>\n",
       "<!-- 1944345369512 -->\n",
       "<g class=\"node\" id=\"node3\"><title>1944345369512</title>\n",
       "<polygon fill=\"none\" points=\"73.5,-166.5 73.5,-202.5 177.5,-202.5 177.5,-166.5 73.5,-166.5\" stroke=\"black\"/>\n",
       "<text font-family=\"Times New Roman,serif\" font-size=\"14.00\" text-anchor=\"middle\" x=\"125.5\" y=\"-180.8\">1944345369512</text>\n",
       "</g>\n",
       "<!-- 1944345369512&#45;&gt;1944345369176 -->\n",
       "<g class=\"edge\" id=\"edge1\"><title>1944345369512-&gt;1944345369176</title>\n",
       "<path d=\"M125.5,-166.254C125.5,-158.363 125.5,-148.749 125.5,-139.602\" fill=\"none\" stroke=\"black\"/>\n",
       "<polygon fill=\"black\" points=\"129,-139.591 125.5,-129.591 122,-139.591 129,-139.591\" stroke=\"black\"/>\n",
       "</g>\n",
       "</g>\n",
       "</svg>"
      ],
      "text/plain": [
       "<IPython.core.display.SVG object>"
      ]
     },
     "execution_count": 747,
     "metadata": {},
     "output_type": "execute_result"
    }
   ],
   "source": [
    "from IPython.display import SVG\n",
    "from keras.utils.vis_utils import model_to_dot\n",
    "\n",
    "SVG(model_to_dot(model, show_shapes=True).create(prog='dot', format='svg'))"
   ]
  },
  {
   "cell_type": "code",
   "execution_count": 748,
   "metadata": {},
   "outputs": [],
   "source": [
    "from keras.callbacks import EarlyStopping  \n",
    "early_stopping = EarlyStopping(monitor='loss')"
   ]
  },
  {
   "cell_type": "code",
   "execution_count": 749,
   "metadata": {},
   "outputs": [],
   "source": [
    "from keras.callbacks import TensorBoard  \n",
    "tensorboard = TensorBoard(log_dir='../logs/', write_graph=True)"
   ]
  },
  {
   "cell_type": "code",
   "execution_count": 750,
   "metadata": {},
   "outputs": [
    {
     "name": "stdout",
     "output_type": "stream",
     "text": [
      "Train on 193 samples, validate on 49 samples\n",
      "Epoch 1/100\n",
      " - 1s - loss: 0.6995 - acc: 0.4456 - val_loss: 0.6956 - val_acc: 0.4694\n",
      "Epoch 2/100\n",
      " - 0s - loss: 0.6972 - acc: 0.4611 - val_loss: 0.6928 - val_acc: 0.4898\n",
      "Epoch 3/100\n",
      " - 0s - loss: 0.6949 - acc: 0.4819 - val_loss: 0.6900 - val_acc: 0.5102\n",
      "Epoch 4/100\n",
      " - 0s - loss: 0.6926 - acc: 0.5130 - val_loss: 0.6872 - val_acc: 0.5918\n",
      "Epoch 5/100\n",
      " - 0s - loss: 0.6904 - acc: 0.5596 - val_loss: 0.6843 - val_acc: 0.6327\n",
      "Epoch 6/100\n",
      " - 0s - loss: 0.6881 - acc: 0.6321 - val_loss: 0.6815 - val_acc: 0.6735\n",
      "Epoch 7/100\n",
      " - 0s - loss: 0.6858 - acc: 0.6632 - val_loss: 0.6786 - val_acc: 0.7143\n",
      "Epoch 8/100\n",
      " - 0s - loss: 0.6835 - acc: 0.6943 - val_loss: 0.6757 - val_acc: 0.8367\n",
      "Epoch 9/100\n",
      " - 0s - loss: 0.6813 - acc: 0.7047 - val_loss: 0.6728 - val_acc: 0.8776\n",
      "Epoch 10/100\n",
      " - 0s - loss: 0.6789 - acc: 0.7358 - val_loss: 0.6698 - val_acc: 0.9184\n",
      "Epoch 11/100\n",
      " - 0s - loss: 0.6766 - acc: 0.7461 - val_loss: 0.6668 - val_acc: 0.9184\n",
      "Epoch 12/100\n",
      " - 0s - loss: 0.6743 - acc: 0.7513 - val_loss: 0.6637 - val_acc: 0.9184\n",
      "Epoch 13/100\n",
      " - 0s - loss: 0.6719 - acc: 0.7824 - val_loss: 0.6606 - val_acc: 0.9184\n",
      "Epoch 14/100\n",
      " - 0s - loss: 0.6695 - acc: 0.7927 - val_loss: 0.6575 - val_acc: 0.9184\n",
      "Epoch 15/100\n",
      " - 0s - loss: 0.6670 - acc: 0.8031 - val_loss: 0.6543 - val_acc: 0.9184\n",
      "Epoch 16/100\n",
      " - 0s - loss: 0.6645 - acc: 0.8031 - val_loss: 0.6510 - val_acc: 0.9184\n",
      "Epoch 17/100\n",
      " - 0s - loss: 0.6619 - acc: 0.8135 - val_loss: 0.6477 - val_acc: 0.9184\n",
      "Epoch 18/100\n",
      " - 0s - loss: 0.6593 - acc: 0.8238 - val_loss: 0.6443 - val_acc: 0.9184\n",
      "Epoch 19/100\n",
      " - 0s - loss: 0.6566 - acc: 0.8394 - val_loss: 0.6408 - val_acc: 0.9388\n",
      "Epoch 20/100\n",
      " - 0s - loss: 0.6539 - acc: 0.8394 - val_loss: 0.6373 - val_acc: 0.9184\n",
      "Epoch 21/100\n",
      " - 0s - loss: 0.6511 - acc: 0.8394 - val_loss: 0.6336 - val_acc: 0.9184\n",
      "Epoch 22/100\n",
      " - 0s - loss: 0.6483 - acc: 0.8394 - val_loss: 0.6299 - val_acc: 0.9184\n",
      "Epoch 23/100\n",
      " - 0s - loss: 0.6454 - acc: 0.8394 - val_loss: 0.6262 - val_acc: 0.9184\n",
      "Epoch 24/100\n",
      " - 0s - loss: 0.6425 - acc: 0.8394 - val_loss: 0.6224 - val_acc: 0.9184\n",
      "Epoch 25/100\n",
      " - 0s - loss: 0.6395 - acc: 0.8394 - val_loss: 0.6185 - val_acc: 0.9184\n",
      "Epoch 26/100\n",
      " - 0s - loss: 0.6365 - acc: 0.8394 - val_loss: 0.6145 - val_acc: 0.9184\n",
      "Epoch 27/100\n",
      " - 0s - loss: 0.6333 - acc: 0.8394 - val_loss: 0.6104 - val_acc: 0.9184\n",
      "Epoch 28/100\n",
      " - 0s - loss: 0.6301 - acc: 0.8394 - val_loss: 0.6063 - val_acc: 0.9184\n",
      "Epoch 29/100\n",
      " - 0s - loss: 0.6268 - acc: 0.8446 - val_loss: 0.6022 - val_acc: 0.9184\n",
      "Epoch 30/100\n",
      " - 0s - loss: 0.6234 - acc: 0.8446 - val_loss: 0.5980 - val_acc: 0.9184\n",
      "Epoch 31/100\n",
      " - 0s - loss: 0.6200 - acc: 0.8497 - val_loss: 0.5937 - val_acc: 0.9184\n",
      "Epoch 32/100\n",
      " - 0s - loss: 0.6165 - acc: 0.8497 - val_loss: 0.5893 - val_acc: 0.9184\n",
      "Epoch 33/100\n",
      " - 0s - loss: 0.6130 - acc: 0.8394 - val_loss: 0.5848 - val_acc: 0.9184\n",
      "Epoch 34/100\n",
      " - 0s - loss: 0.6094 - acc: 0.8394 - val_loss: 0.5803 - val_acc: 0.9184\n",
      "Epoch 35/100\n",
      " - 0s - loss: 0.6057 - acc: 0.8446 - val_loss: 0.5757 - val_acc: 0.9184\n",
      "Epoch 36/100\n",
      " - 0s - loss: 0.6020 - acc: 0.8446 - val_loss: 0.5711 - val_acc: 0.9184\n",
      "Epoch 37/100\n",
      " - 0s - loss: 0.5982 - acc: 0.8446 - val_loss: 0.5665 - val_acc: 0.9184\n",
      "Epoch 38/100\n",
      " - 0s - loss: 0.5944 - acc: 0.8497 - val_loss: 0.5617 - val_acc: 0.9184\n",
      "Epoch 39/100\n",
      " - 0s - loss: 0.5904 - acc: 0.8497 - val_loss: 0.5569 - val_acc: 0.9184\n",
      "Epoch 40/100\n",
      " - 0s - loss: 0.5865 - acc: 0.8549 - val_loss: 0.5520 - val_acc: 0.9184\n",
      "Epoch 41/100\n",
      " - 0s - loss: 0.5825 - acc: 0.8549 - val_loss: 0.5471 - val_acc: 0.9184\n",
      "Epoch 42/100\n",
      " - 0s - loss: 0.5785 - acc: 0.8549 - val_loss: 0.5422 - val_acc: 0.9184\n",
      "Epoch 43/100\n",
      " - 0s - loss: 0.5744 - acc: 0.8549 - val_loss: 0.5372 - val_acc: 0.9184\n",
      "Epoch 44/100\n",
      " - 0s - loss: 0.5702 - acc: 0.8549 - val_loss: 0.5322 - val_acc: 0.9184\n",
      "Epoch 45/100\n",
      " - 0s - loss: 0.5661 - acc: 0.8549 - val_loss: 0.5272 - val_acc: 0.9184\n",
      "Epoch 46/100\n",
      " - 0s - loss: 0.5618 - acc: 0.8549 - val_loss: 0.5221 - val_acc: 0.9184\n",
      "Epoch 47/100\n",
      " - 0s - loss: 0.5576 - acc: 0.8549 - val_loss: 0.5171 - val_acc: 0.9184\n",
      "Epoch 48/100\n",
      " - 0s - loss: 0.5533 - acc: 0.8549 - val_loss: 0.5120 - val_acc: 0.9184\n",
      "Epoch 49/100\n",
      " - 0s - loss: 0.5490 - acc: 0.8549 - val_loss: 0.5069 - val_acc: 0.9184\n",
      "Epoch 50/100\n",
      " - 0s - loss: 0.5446 - acc: 0.8549 - val_loss: 0.5018 - val_acc: 0.9184\n",
      "Epoch 51/100\n",
      " - 0s - loss: 0.5403 - acc: 0.8549 - val_loss: 0.4968 - val_acc: 0.8980\n",
      "Epoch 52/100\n",
      " - 0s - loss: 0.5359 - acc: 0.8549 - val_loss: 0.4918 - val_acc: 0.8980\n",
      "Epoch 53/100\n",
      " - 0s - loss: 0.5315 - acc: 0.8549 - val_loss: 0.4868 - val_acc: 0.8980\n",
      "Epoch 54/100\n",
      " - 0s - loss: 0.5272 - acc: 0.8549 - val_loss: 0.4819 - val_acc: 0.8980\n",
      "Epoch 55/100\n",
      " - 0s - loss: 0.5228 - acc: 0.8549 - val_loss: 0.4770 - val_acc: 0.8980\n",
      "Epoch 56/100\n",
      " - 0s - loss: 0.5184 - acc: 0.8497 - val_loss: 0.4721 - val_acc: 0.8980\n",
      "Epoch 57/100\n",
      " - 0s - loss: 0.5140 - acc: 0.8497 - val_loss: 0.4673 - val_acc: 0.8980\n",
      "Epoch 58/100\n",
      " - 0s - loss: 0.5097 - acc: 0.8549 - val_loss: 0.4625 - val_acc: 0.8980\n",
      "Epoch 59/100\n",
      " - 0s - loss: 0.5053 - acc: 0.8549 - val_loss: 0.4578 - val_acc: 0.8980\n",
      "Epoch 60/100\n",
      " - 0s - loss: 0.5010 - acc: 0.8549 - val_loss: 0.4532 - val_acc: 0.8980\n",
      "Epoch 61/100\n",
      " - 0s - loss: 0.4967 - acc: 0.8549 - val_loss: 0.4486 - val_acc: 0.8980\n",
      "Epoch 62/100\n",
      " - 0s - loss: 0.4925 - acc: 0.8549 - val_loss: 0.4441 - val_acc: 0.8980\n",
      "Epoch 63/100\n",
      " - 0s - loss: 0.4882 - acc: 0.8549 - val_loss: 0.4397 - val_acc: 0.8980\n",
      "Epoch 64/100\n",
      " - 0s - loss: 0.4841 - acc: 0.8549 - val_loss: 0.4354 - val_acc: 0.8980\n",
      "Epoch 65/100\n",
      " - 0s - loss: 0.4799 - acc: 0.8549 - val_loss: 0.4312 - val_acc: 0.8980\n",
      "Epoch 66/100\n",
      " - 0s - loss: 0.4758 - acc: 0.8549 - val_loss: 0.4270 - val_acc: 0.8980\n",
      "Epoch 67/100\n",
      " - 0s - loss: 0.4717 - acc: 0.8549 - val_loss: 0.4230 - val_acc: 0.8980\n",
      "Epoch 68/100\n",
      " - 0s - loss: 0.4677 - acc: 0.8549 - val_loss: 0.4190 - val_acc: 0.8980\n",
      "Epoch 69/100\n",
      " - 0s - loss: 0.4637 - acc: 0.8549 - val_loss: 0.4151 - val_acc: 0.8980\n",
      "Epoch 70/100\n",
      " - 0s - loss: 0.4597 - acc: 0.8601 - val_loss: 0.4114 - val_acc: 0.8980\n",
      "Epoch 71/100\n",
      " - 0s - loss: 0.4559 - acc: 0.8601 - val_loss: 0.4077 - val_acc: 0.8980\n",
      "Epoch 72/100\n",
      " - 0s - loss: 0.4520 - acc: 0.8653 - val_loss: 0.4041 - val_acc: 0.8980\n",
      "Epoch 73/100\n",
      " - 0s - loss: 0.4482 - acc: 0.8653 - val_loss: 0.4007 - val_acc: 0.8980\n",
      "Epoch 74/100\n",
      " - 0s - loss: 0.4445 - acc: 0.8653 - val_loss: 0.3973 - val_acc: 0.8980\n",
      "Epoch 75/100\n",
      " - 0s - loss: 0.4409 - acc: 0.8653 - val_loss: 0.3941 - val_acc: 0.8980\n",
      "Epoch 76/100\n",
      " - 0s - loss: 0.4373 - acc: 0.8653 - val_loss: 0.3910 - val_acc: 0.8980\n",
      "Epoch 77/100\n",
      " - 0s - loss: 0.4337 - acc: 0.8653 - val_loss: 0.3879 - val_acc: 0.8980\n",
      "Epoch 78/100\n",
      " - 0s - loss: 0.4303 - acc: 0.8653 - val_loss: 0.3850 - val_acc: 0.8980\n",
      "Epoch 79/100\n",
      " - 0s - loss: 0.4268 - acc: 0.8653 - val_loss: 0.3822 - val_acc: 0.8980\n",
      "Epoch 80/100\n",
      " - 0s - loss: 0.4235 - acc: 0.8601 - val_loss: 0.3795 - val_acc: 0.8980\n",
      "Epoch 81/100\n",
      " - 0s - loss: 0.4202 - acc: 0.8601 - val_loss: 0.3769 - val_acc: 0.8980\n",
      "Epoch 82/100\n",
      " - 0s - loss: 0.4170 - acc: 0.8653 - val_loss: 0.3743 - val_acc: 0.8980\n",
      "Epoch 83/100\n",
      " - 0s - loss: 0.4139 - acc: 0.8705 - val_loss: 0.3719 - val_acc: 0.8980\n",
      "Epoch 84/100\n",
      " - 0s - loss: 0.4108 - acc: 0.8705 - val_loss: 0.3696 - val_acc: 0.8980\n",
      "Epoch 85/100\n",
      " - 0s - loss: 0.4078 - acc: 0.8705 - val_loss: 0.3674 - val_acc: 0.8980\n",
      "Epoch 86/100\n",
      " - 0s - loss: 0.4048 - acc: 0.8705 - val_loss: 0.3653 - val_acc: 0.8980\n",
      "Epoch 87/100\n",
      " - 0s - loss: 0.4019 - acc: 0.8653 - val_loss: 0.3632 - val_acc: 0.8980\n",
      "Epoch 88/100\n",
      " - 0s - loss: 0.3991 - acc: 0.8653 - val_loss: 0.3613 - val_acc: 0.8980\n",
      "Epoch 89/100\n",
      " - 0s - loss: 0.3964 - acc: 0.8705 - val_loss: 0.3595 - val_acc: 0.8980\n",
      "Epoch 90/100\n",
      " - 0s - loss: 0.3937 - acc: 0.8653 - val_loss: 0.3577 - val_acc: 0.8980\n",
      "Epoch 91/100\n",
      " - 0s - loss: 0.3910 - acc: 0.8653 - val_loss: 0.3560 - val_acc: 0.8776\n",
      "Epoch 92/100\n",
      " - 0s - loss: 0.3885 - acc: 0.8653 - val_loss: 0.3544 - val_acc: 0.8776\n",
      "Epoch 93/100\n",
      " - 0s - loss: 0.3860 - acc: 0.8653 - val_loss: 0.3529 - val_acc: 0.8776\n",
      "Epoch 94/100\n",
      " - 0s - loss: 0.3835 - acc: 0.8653 - val_loss: 0.3515 - val_acc: 0.8776\n",
      "Epoch 95/100\n",
      " - 0s - loss: 0.3812 - acc: 0.8705 - val_loss: 0.3502 - val_acc: 0.8776\n",
      "Epoch 96/100\n",
      " - 0s - loss: 0.3788 - acc: 0.8705 - val_loss: 0.3489 - val_acc: 0.8776\n"
     ]
    },
    {
     "name": "stdout",
     "output_type": "stream",
     "text": [
      "Epoch 97/100\n",
      " - 0s - loss: 0.3766 - acc: 0.8705 - val_loss: 0.3477 - val_acc: 0.8776\n",
      "Epoch 98/100\n",
      " - 0s - loss: 0.3744 - acc: 0.8705 - val_loss: 0.3465 - val_acc: 0.8776\n",
      "Epoch 99/100\n",
      " - 0s - loss: 0.3722 - acc: 0.8705 - val_loss: 0.3454 - val_acc: 0.8776\n",
      "Epoch 100/100\n",
      " - 0s - loss: 0.3701 - acc: 0.8705 - val_loss: 0.3444 - val_acc: 0.8776\n",
      "Wall time: 10.3 s\n"
     ]
    },
    {
     "data": {
      "text/plain": [
       "<keras.callbacks.History at 0x1c4aa385e10>"
      ]
     },
     "execution_count": 750,
     "metadata": {},
     "output_type": "execute_result"
    }
   ],
   "source": [
    "%%time\n",
    "model.fit(X_train_scaled, y_train, batch_size=200, epochs=100, validation_split=0.2, callbacks=[early_stopping, tensorboard], verbose=2);"
   ]
  },
  {
   "cell_type": "code",
   "execution_count": 751,
   "metadata": {},
   "outputs": [
    {
     "name": "stdout",
     "output_type": "stream",
     "text": [
      "Доля верных ответов на тестовых данных: 85.25%\n"
     ]
    }
   ],
   "source": [
    "scores = model.evaluate(X_test_scaled, y_test, verbose=0)\n",
    "print(\"Доля верных ответов на тестовых данных: %.2f%%\" % (scores[1]*100))"
   ]
  }
 ],
 "metadata": {
  "kernelspec": {
   "display_name": "Python 3",
   "language": "python",
   "name": "python3"
  },
  "language_info": {
   "codemirror_mode": {
    "name": "ipython",
    "version": 3
   },
   "file_extension": ".py",
   "mimetype": "text/x-python",
   "name": "python",
   "nbconvert_exporter": "python",
   "pygments_lexer": "ipython3",
   "version": "3.6.8"
  }
 },
 "nbformat": 4,
 "nbformat_minor": 2
}
