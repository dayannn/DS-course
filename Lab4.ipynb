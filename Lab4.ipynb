{
 "cells": [
  {
   "cell_type": "code",
   "execution_count": 150,
   "metadata": {},
   "outputs": [],
   "source": [
    "import numpy as np\n",
    "from sklearn.preprocessing import StandardScaler\n",
    "from keras.datasets import mnist\n",
    "from keras.models import Sequential\n",
    "from keras.layers import Dense\n",
    "from keras.utils import np_utils\n",
    "import keras"
   ]
  },
  {
   "cell_type": "code",
   "execution_count": 151,
   "metadata": {},
   "outputs": [],
   "source": [
    "np.random.seed(42)"
   ]
  },
  {
   "cell_type": "code",
   "execution_count": 152,
   "metadata": {},
   "outputs": [
    {
     "data": {
      "text/plain": [
       "(303, 14)"
      ]
     },
     "execution_count": 152,
     "metadata": {},
     "output_type": "execute_result"
    }
   ],
   "source": [
    "import pandas as pd\n",
    "dataset = pd.read_csv(\"./heart-disease/heart.csv\")\n",
    "dataset.shape"
   ]
  },
  {
   "cell_type": "code",
   "execution_count": 153,
   "metadata": {},
   "outputs": [],
   "source": [
    "X, y = dataset.iloc[:, :-1], dataset.loc[:, 'target']"
   ]
  },
  {
   "cell_type": "code",
   "execution_count": 154,
   "metadata": {},
   "outputs": [],
   "source": [
    "from sklearn.linear_model import LogisticRegression\n",
    "from sklearn.model_selection import train_test_split\n",
    "\n",
    "X_train, X_test, y_train, y_test = train_test_split(X, y, test_size=0.2, random_state=86)\n"
   ]
  },
  {
   "cell_type": "code",
   "execution_count": 155,
   "metadata": {},
   "outputs": [],
   "source": [
    "#y_train = np_utils.to_categorical(y_train, 2)\n",
    "#y_test = np_utils.to_categorical(y_test, 2)"
   ]
  },
  {
   "cell_type": "code",
   "execution_count": 156,
   "metadata": {},
   "outputs": [],
   "source": [
    "scaler = StandardScaler()\n",
    "\n",
    "X_train_scaled = scaler.fit_transform(X_train)\n",
    "X_test_scaled = scaler.transform(X_test)\n"
   ]
  },
  {
   "cell_type": "code",
   "execution_count": null,
   "metadata": {},
   "outputs": [],
   "source": []
  },
  {
   "cell_type": "code",
   "execution_count": 157,
   "metadata": {},
   "outputs": [],
   "source": [
    "model = Sequential()"
   ]
  },
  {
   "cell_type": "code",
   "execution_count": 158,
   "metadata": {},
   "outputs": [],
   "source": [
    "model.add(Dense(25, input_dim=13, kernel_initializer='normal', activation='relu'))"
   ]
  },
  {
   "cell_type": "code",
   "execution_count": 159,
   "metadata": {},
   "outputs": [],
   "source": [
    "model.add(Dense(1, input_dim=25, kernel_initializer='normal', activation='relu'))"
   ]
  },
  {
   "cell_type": "code",
   "execution_count": 160,
   "metadata": {},
   "outputs": [],
   "source": [
    "model.add(Dense(1, kernel_initializer='normal', activation='softmax'))"
   ]
  },
  {
   "cell_type": "code",
   "execution_count": 161,
   "metadata": {},
   "outputs": [],
   "source": [
    "model.compile(loss='binary_crossentropy', optimizer='SGD', metrics=['accuracy'])"
   ]
  },
  {
   "cell_type": "code",
   "execution_count": 162,
   "metadata": {},
   "outputs": [
    {
     "name": "stdout",
     "output_type": "stream",
     "text": [
      "_________________________________________________________________\n",
      "Layer (type)                 Output Shape              Param #   \n",
      "=================================================================\n",
      "dense_33 (Dense)             (None, 25)                350       \n",
      "_________________________________________________________________\n",
      "dense_34 (Dense)             (None, 1)                 26        \n",
      "_________________________________________________________________\n",
      "dense_35 (Dense)             (None, 1)                 2         \n",
      "=================================================================\n",
      "Total params: 378\n",
      "Trainable params: 378\n",
      "Non-trainable params: 0\n",
      "_________________________________________________________________\n",
      "None\n"
     ]
    }
   ],
   "source": [
    "print(model.summary())"
   ]
  },
  {
   "cell_type": "code",
   "execution_count": 163,
   "metadata": {},
   "outputs": [
    {
     "data": {
      "image/svg+xml": [
       "<svg height=\"294pt\" viewBox=\"0.00 0.00 252.00 294.00\" width=\"252pt\" xmlns=\"http://www.w3.org/2000/svg\" xmlns:xlink=\"http://www.w3.org/1999/xlink\">\n",
       "<g class=\"graph\" id=\"graph0\" transform=\"scale(1 1) rotate(0) translate(4 290)\">\n",
       "<title>G</title>\n",
       "<polygon fill=\"white\" points=\"-4,4 -4,-290 248,-290 248,4 -4,4\" stroke=\"none\"/>\n",
       "<!-- 1943580853864 -->\n",
       "<g class=\"node\" id=\"node1\"><title>1943580853864</title>\n",
       "<polygon fill=\"none\" points=\"0,-166.5 0,-212.5 244,-212.5 244,-166.5 0,-166.5\" stroke=\"black\"/>\n",
       "<text font-family=\"Times New Roman,serif\" font-size=\"14.00\" text-anchor=\"middle\" x=\"55.5\" y=\"-185.8\">dense_33: Dense</text>\n",
       "<polyline fill=\"none\" points=\"111,-166.5 111,-212.5 \" stroke=\"black\"/>\n",
       "<text font-family=\"Times New Roman,serif\" font-size=\"14.00\" text-anchor=\"middle\" x=\"139\" y=\"-197.3\">input:</text>\n",
       "<polyline fill=\"none\" points=\"111,-189.5 167,-189.5 \" stroke=\"black\"/>\n",
       "<text font-family=\"Times New Roman,serif\" font-size=\"14.00\" text-anchor=\"middle\" x=\"139\" y=\"-174.3\">output:</text>\n",
       "<polyline fill=\"none\" points=\"167,-166.5 167,-212.5 \" stroke=\"black\"/>\n",
       "<text font-family=\"Times New Roman,serif\" font-size=\"14.00\" text-anchor=\"middle\" x=\"205.5\" y=\"-197.3\">(None, 13)</text>\n",
       "<polyline fill=\"none\" points=\"167,-189.5 244,-189.5 \" stroke=\"black\"/>\n",
       "<text font-family=\"Times New Roman,serif\" font-size=\"14.00\" text-anchor=\"middle\" x=\"205.5\" y=\"-174.3\">(None, 25)</text>\n",
       "</g>\n",
       "<!-- 1943598888104 -->\n",
       "<g class=\"node\" id=\"node2\"><title>1943598888104</title>\n",
       "<polygon fill=\"none\" points=\"0,-83.5 0,-129.5 244,-129.5 244,-83.5 0,-83.5\" stroke=\"black\"/>\n",
       "<text font-family=\"Times New Roman,serif\" font-size=\"14.00\" text-anchor=\"middle\" x=\"55.5\" y=\"-102.8\">dense_34: Dense</text>\n",
       "<polyline fill=\"none\" points=\"111,-83.5 111,-129.5 \" stroke=\"black\"/>\n",
       "<text font-family=\"Times New Roman,serif\" font-size=\"14.00\" text-anchor=\"middle\" x=\"139\" y=\"-114.3\">input:</text>\n",
       "<polyline fill=\"none\" points=\"111,-106.5 167,-106.5 \" stroke=\"black\"/>\n",
       "<text font-family=\"Times New Roman,serif\" font-size=\"14.00\" text-anchor=\"middle\" x=\"139\" y=\"-91.3\">output:</text>\n",
       "<polyline fill=\"none\" points=\"167,-83.5 167,-129.5 \" stroke=\"black\"/>\n",
       "<text font-family=\"Times New Roman,serif\" font-size=\"14.00\" text-anchor=\"middle\" x=\"205.5\" y=\"-114.3\">(None, 25)</text>\n",
       "<polyline fill=\"none\" points=\"167,-106.5 244,-106.5 \" stroke=\"black\"/>\n",
       "<text font-family=\"Times New Roman,serif\" font-size=\"14.00\" text-anchor=\"middle\" x=\"205.5\" y=\"-91.3\">(None, 1)</text>\n",
       "</g>\n",
       "<!-- 1943580853864&#45;&gt;1943598888104 -->\n",
       "<g class=\"edge\" id=\"edge2\"><title>1943580853864-&gt;1943598888104</title>\n",
       "<path d=\"M122,-166.366C122,-158.152 122,-148.658 122,-139.725\" fill=\"none\" stroke=\"black\"/>\n",
       "<polygon fill=\"black\" points=\"125.5,-139.607 122,-129.607 118.5,-139.607 125.5,-139.607\" stroke=\"black\"/>\n",
       "</g>\n",
       "<!-- 1943598888832 -->\n",
       "<g class=\"node\" id=\"node3\"><title>1943598888832</title>\n",
       "<polygon fill=\"none\" points=\"3.5,-0.5 3.5,-46.5 240.5,-46.5 240.5,-0.5 3.5,-0.5\" stroke=\"black\"/>\n",
       "<text font-family=\"Times New Roman,serif\" font-size=\"14.00\" text-anchor=\"middle\" x=\"59\" y=\"-19.8\">dense_35: Dense</text>\n",
       "<polyline fill=\"none\" points=\"114.5,-0.5 114.5,-46.5 \" stroke=\"black\"/>\n",
       "<text font-family=\"Times New Roman,serif\" font-size=\"14.00\" text-anchor=\"middle\" x=\"142.5\" y=\"-31.3\">input:</text>\n",
       "<polyline fill=\"none\" points=\"114.5,-23.5 170.5,-23.5 \" stroke=\"black\"/>\n",
       "<text font-family=\"Times New Roman,serif\" font-size=\"14.00\" text-anchor=\"middle\" x=\"142.5\" y=\"-8.3\">output:</text>\n",
       "<polyline fill=\"none\" points=\"170.5,-0.5 170.5,-46.5 \" stroke=\"black\"/>\n",
       "<text font-family=\"Times New Roman,serif\" font-size=\"14.00\" text-anchor=\"middle\" x=\"205.5\" y=\"-31.3\">(None, 1)</text>\n",
       "<polyline fill=\"none\" points=\"170.5,-23.5 240.5,-23.5 \" stroke=\"black\"/>\n",
       "<text font-family=\"Times New Roman,serif\" font-size=\"14.00\" text-anchor=\"middle\" x=\"205.5\" y=\"-8.3\">(None, 1)</text>\n",
       "</g>\n",
       "<!-- 1943598888104&#45;&gt;1943598888832 -->\n",
       "<g class=\"edge\" id=\"edge3\"><title>1943598888104-&gt;1943598888832</title>\n",
       "<path d=\"M122,-83.3664C122,-75.1516 122,-65.6579 122,-56.7252\" fill=\"none\" stroke=\"black\"/>\n",
       "<polygon fill=\"black\" points=\"125.5,-56.6068 122,-46.6068 118.5,-56.6069 125.5,-56.6068\" stroke=\"black\"/>\n",
       "</g>\n",
       "<!-- 1943598774760 -->\n",
       "<g class=\"node\" id=\"node4\"><title>1943598774760</title>\n",
       "<polygon fill=\"none\" points=\"70,-249.5 70,-285.5 174,-285.5 174,-249.5 70,-249.5\" stroke=\"black\"/>\n",
       "<text font-family=\"Times New Roman,serif\" font-size=\"14.00\" text-anchor=\"middle\" x=\"122\" y=\"-263.8\">1943598774760</text>\n",
       "</g>\n",
       "<!-- 1943598774760&#45;&gt;1943580853864 -->\n",
       "<g class=\"edge\" id=\"edge1\"><title>1943598774760-&gt;1943580853864</title>\n",
       "<path d=\"M122,-249.254C122,-241.363 122,-231.749 122,-222.602\" fill=\"none\" stroke=\"black\"/>\n",
       "<polygon fill=\"black\" points=\"125.5,-222.591 122,-212.591 118.5,-222.591 125.5,-222.591\" stroke=\"black\"/>\n",
       "</g>\n",
       "</g>\n",
       "</svg>"
      ],
      "text/plain": [
       "<IPython.core.display.SVG object>"
      ]
     },
     "execution_count": 163,
     "metadata": {},
     "output_type": "execute_result"
    }
   ],
   "source": [
    "from IPython.display import SVG\n",
    "from keras.utils.vis_utils import model_to_dot\n",
    "\n",
    "SVG(model_to_dot(model, show_shapes=True).create(prog='dot', format='svg'))"
   ]
  },
  {
   "cell_type": "code",
   "execution_count": 164,
   "metadata": {},
   "outputs": [],
   "source": [
    "from keras.callbacks import EarlyStopping  \n",
    "early_stopping = EarlyStopping(monitor='loss')"
   ]
  },
  {
   "cell_type": "code",
   "execution_count": 165,
   "metadata": {},
   "outputs": [],
   "source": [
    "from keras.callbacks import TensorBoard  \n",
    "tensorboard = TensorBoard(log_dir='../logs/', write_graph=True)"
   ]
  },
  {
   "cell_type": "code",
   "execution_count": 166,
   "metadata": {},
   "outputs": [
    {
     "name": "stdout",
     "output_type": "stream",
     "text": [
      "Train on 193 samples, validate on 49 samples\n",
      "Epoch 1/100\n",
      " - 0s - loss: 7.0213 - acc: 0.5596 - val_loss: 6.8325 - val_acc: 0.5714\n",
      "Epoch 2/100\n",
      " - 0s - loss: 7.0213 - acc: 0.5596 - val_loss: 6.8325 - val_acc: 0.5714\n",
      "Wall time: 1.38 s\n"
     ]
    },
    {
     "data": {
      "text/plain": [
       "<keras.callbacks.History at 0x1c483b952e8>"
      ]
     },
     "execution_count": 166,
     "metadata": {},
     "output_type": "execute_result"
    }
   ],
   "source": [
    "%%time\n",
    "model.fit(X_train_scaled, y_train, batch_size=200, epochs=100, validation_split=0.2, callbacks=[early_stopping, tensorboard], verbose=2);"
   ]
  },
  {
   "cell_type": "code",
   "execution_count": 167,
   "metadata": {},
   "outputs": [
    {
     "name": "stdout",
     "output_type": "stream",
     "text": [
      "Доля верных ответов на тестовых данных: 47.54%\n"
     ]
    }
   ],
   "source": [
    "scores = model.evaluate(X_test_scaled, y_test, verbose=0)\n",
    "print(\"Доля верных ответов на тестовых данных: %.2f%%\" % (scores[1]*100))"
   ]
  }
 ],
 "metadata": {
  "kernelspec": {
   "display_name": "Python 3",
   "language": "python",
   "name": "python3"
  },
  "language_info": {
   "codemirror_mode": {
    "name": "ipython",
    "version": 3
   },
   "file_extension": ".py",
   "mimetype": "text/x-python",
   "name": "python",
   "nbconvert_exporter": "python",
   "pygments_lexer": "ipython3",
   "version": "3.6.8"
  }
 },
 "nbformat": 4,
 "nbformat_minor": 2
}
