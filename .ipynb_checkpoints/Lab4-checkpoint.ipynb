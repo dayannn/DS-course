{
 "cells": [
  {
   "cell_type": "code",
   "execution_count": 168,
   "metadata": {},
   "outputs": [],
   "source": [
    "import numpy as np\n",
    "from sklearn.preprocessing import StandardScaler\n",
    "from keras.datasets import mnist\n",
    "from keras.models import Sequential\n",
    "from keras.layers import Dense\n",
    "from keras.utils import np_utils\n",
    "import keras"
   ]
  },
  {
   "cell_type": "code",
   "execution_count": 169,
   "metadata": {},
   "outputs": [],
   "source": [
    "np.random.seed(42)"
   ]
  },
  {
   "cell_type": "code",
   "execution_count": 170,
   "metadata": {},
   "outputs": [
    {
     "data": {
      "text/plain": [
       "(303, 14)"
      ]
     },
     "execution_count": 170,
     "metadata": {},
     "output_type": "execute_result"
    }
   ],
   "source": [
    "import pandas as pd\n",
    "dataset = pd.read_csv(\"./heart-disease/heart.csv\")\n",
    "dataset.shape"
   ]
  },
  {
   "cell_type": "code",
   "execution_count": 171,
   "metadata": {},
   "outputs": [],
   "source": [
    "X, y = dataset.iloc[:, :-1], dataset.loc[:, 'target']"
   ]
  },
  {
   "cell_type": "code",
   "execution_count": 172,
   "metadata": {},
   "outputs": [],
   "source": [
    "from sklearn.linear_model import LogisticRegression\n",
    "from sklearn.model_selection import train_test_split\n",
    "\n",
    "X_train, X_test, y_train, y_test = train_test_split(X, y, test_size=0.2, random_state=86)\n"
   ]
  },
  {
   "cell_type": "code",
   "execution_count": 173,
   "metadata": {},
   "outputs": [],
   "source": [
    "#y_train = np_utils.to_categorical(y_train, 2)\n",
    "#y_test = np_utils.to_categorical(y_test, 2)"
   ]
  },
  {
   "cell_type": "code",
   "execution_count": 174,
   "metadata": {},
   "outputs": [],
   "source": [
    "scaler = StandardScaler()\n",
    "\n",
    "X_train_scaled = scaler.fit_transform(X_train)\n",
    "X_test_scaled = scaler.transform(X_test)\n"
   ]
  },
  {
   "cell_type": "code",
   "execution_count": 175,
   "metadata": {},
   "outputs": [],
   "source": [
    "model = Sequential()\n",
    "model.add(Dense(13, input_dim=13, kernel_initializer='normal', activation='relu'))\n",
    "model.add(Dense(1, kernel_initializer='normal', activation='sigmoid'))\n",
    "model.compile(loss='binary_crossentropy', optimizer='adam', metrics=['accuracy'])\n"
   ]
  },
  {
   "cell_type": "code",
   "execution_count": 176,
   "metadata": {},
   "outputs": [
    {
     "name": "stdout",
     "output_type": "stream",
     "text": [
      "_________________________________________________________________\n",
      "Layer (type)                 Output Shape              Param #   \n",
      "=================================================================\n",
      "dense_36 (Dense)             (None, 13)                182       \n",
      "_________________________________________________________________\n",
      "dense_37 (Dense)             (None, 1)                 14        \n",
      "=================================================================\n",
      "Total params: 196\n",
      "Trainable params: 196\n",
      "Non-trainable params: 0\n",
      "_________________________________________________________________\n",
      "None\n"
     ]
    }
   ],
   "source": [
    "print(model.summary())"
   ]
  },
  {
   "cell_type": "code",
   "execution_count": 177,
   "metadata": {},
   "outputs": [
    {
     "data": {
      "image/svg+xml": [
       "<svg height=\"211pt\" viewBox=\"0.00 0.00 252.00 211.00\" width=\"252pt\" xmlns=\"http://www.w3.org/2000/svg\" xmlns:xlink=\"http://www.w3.org/1999/xlink\">\n",
       "<g class=\"graph\" id=\"graph0\" transform=\"scale(1 1) rotate(0) translate(4 207)\">\n",
       "<title>G</title>\n",
       "<polygon fill=\"white\" points=\"-4,4 -4,-207 248,-207 248,4 -4,4\" stroke=\"none\"/>\n",
       "<!-- 1943551628344 -->\n",
       "<g class=\"node\" id=\"node1\"><title>1943551628344</title>\n",
       "<polygon fill=\"none\" points=\"0,-83.5 0,-129.5 244,-129.5 244,-83.5 0,-83.5\" stroke=\"black\"/>\n",
       "<text font-family=\"Times New Roman,serif\" font-size=\"14.00\" text-anchor=\"middle\" x=\"55.5\" y=\"-102.8\">dense_36: Dense</text>\n",
       "<polyline fill=\"none\" points=\"111,-83.5 111,-129.5 \" stroke=\"black\"/>\n",
       "<text font-family=\"Times New Roman,serif\" font-size=\"14.00\" text-anchor=\"middle\" x=\"139\" y=\"-114.3\">input:</text>\n",
       "<polyline fill=\"none\" points=\"111,-106.5 167,-106.5 \" stroke=\"black\"/>\n",
       "<text font-family=\"Times New Roman,serif\" font-size=\"14.00\" text-anchor=\"middle\" x=\"139\" y=\"-91.3\">output:</text>\n",
       "<polyline fill=\"none\" points=\"167,-83.5 167,-129.5 \" stroke=\"black\"/>\n",
       "<text font-family=\"Times New Roman,serif\" font-size=\"14.00\" text-anchor=\"middle\" x=\"205.5\" y=\"-114.3\">(None, 13)</text>\n",
       "<polyline fill=\"none\" points=\"167,-106.5 244,-106.5 \" stroke=\"black\"/>\n",
       "<text font-family=\"Times New Roman,serif\" font-size=\"14.00\" text-anchor=\"middle\" x=\"205.5\" y=\"-91.3\">(None, 13)</text>\n",
       "</g>\n",
       "<!-- 1943551630024 -->\n",
       "<g class=\"node\" id=\"node2\"><title>1943551630024</title>\n",
       "<polygon fill=\"none\" points=\"0,-0.5 0,-46.5 244,-46.5 244,-0.5 0,-0.5\" stroke=\"black\"/>\n",
       "<text font-family=\"Times New Roman,serif\" font-size=\"14.00\" text-anchor=\"middle\" x=\"55.5\" y=\"-19.8\">dense_37: Dense</text>\n",
       "<polyline fill=\"none\" points=\"111,-0.5 111,-46.5 \" stroke=\"black\"/>\n",
       "<text font-family=\"Times New Roman,serif\" font-size=\"14.00\" text-anchor=\"middle\" x=\"139\" y=\"-31.3\">input:</text>\n",
       "<polyline fill=\"none\" points=\"111,-23.5 167,-23.5 \" stroke=\"black\"/>\n",
       "<text font-family=\"Times New Roman,serif\" font-size=\"14.00\" text-anchor=\"middle\" x=\"139\" y=\"-8.3\">output:</text>\n",
       "<polyline fill=\"none\" points=\"167,-0.5 167,-46.5 \" stroke=\"black\"/>\n",
       "<text font-family=\"Times New Roman,serif\" font-size=\"14.00\" text-anchor=\"middle\" x=\"205.5\" y=\"-31.3\">(None, 13)</text>\n",
       "<polyline fill=\"none\" points=\"167,-23.5 244,-23.5 \" stroke=\"black\"/>\n",
       "<text font-family=\"Times New Roman,serif\" font-size=\"14.00\" text-anchor=\"middle\" x=\"205.5\" y=\"-8.3\">(None, 1)</text>\n",
       "</g>\n",
       "<!-- 1943551628344&#45;&gt;1943551630024 -->\n",
       "<g class=\"edge\" id=\"edge2\"><title>1943551628344-&gt;1943551630024</title>\n",
       "<path d=\"M122,-83.3664C122,-75.1516 122,-65.6579 122,-56.7252\" fill=\"none\" stroke=\"black\"/>\n",
       "<polygon fill=\"black\" points=\"125.5,-56.6068 122,-46.6068 118.5,-56.6069 125.5,-56.6068\" stroke=\"black\"/>\n",
       "</g>\n",
       "<!-- 1943535222968 -->\n",
       "<g class=\"node\" id=\"node3\"><title>1943535222968</title>\n",
       "<polygon fill=\"none\" points=\"70,-166.5 70,-202.5 174,-202.5 174,-166.5 70,-166.5\" stroke=\"black\"/>\n",
       "<text font-family=\"Times New Roman,serif\" font-size=\"14.00\" text-anchor=\"middle\" x=\"122\" y=\"-180.8\">1943535222968</text>\n",
       "</g>\n",
       "<!-- 1943535222968&#45;&gt;1943551628344 -->\n",
       "<g class=\"edge\" id=\"edge1\"><title>1943535222968-&gt;1943551628344</title>\n",
       "<path d=\"M122,-166.254C122,-158.363 122,-148.749 122,-139.602\" fill=\"none\" stroke=\"black\"/>\n",
       "<polygon fill=\"black\" points=\"125.5,-139.591 122,-129.591 118.5,-139.591 125.5,-139.591\" stroke=\"black\"/>\n",
       "</g>\n",
       "</g>\n",
       "</svg>"
      ],
      "text/plain": [
       "<IPython.core.display.SVG object>"
      ]
     },
     "execution_count": 177,
     "metadata": {},
     "output_type": "execute_result"
    }
   ],
   "source": [
    "from IPython.display import SVG\n",
    "from keras.utils.vis_utils import model_to_dot\n",
    "\n",
    "SVG(model_to_dot(model, show_shapes=True).create(prog='dot', format='svg'))"
   ]
  },
  {
   "cell_type": "code",
   "execution_count": 178,
   "metadata": {},
   "outputs": [],
   "source": [
    "from keras.callbacks import EarlyStopping  \n",
    "early_stopping = EarlyStopping(monitor='loss')"
   ]
  },
  {
   "cell_type": "code",
   "execution_count": 179,
   "metadata": {},
   "outputs": [],
   "source": [
    "from keras.callbacks import TensorBoard  \n",
    "tensorboard = TensorBoard(log_dir='../logs/', write_graph=True)"
   ]
  },
  {
   "cell_type": "code",
   "execution_count": 180,
   "metadata": {},
   "outputs": [
    {
     "name": "stdout",
     "output_type": "stream",
     "text": [
      "Train on 193 samples, validate on 49 samples\n",
      "Epoch 1/100\n",
      " - 0s - loss: 0.6951 - acc: 0.4249 - val_loss: 0.6981 - val_acc: 0.3878\n",
      "Epoch 2/100\n",
      " - 0s - loss: 0.6946 - acc: 0.4508 - val_loss: 0.6973 - val_acc: 0.4286\n",
      "Epoch 3/100\n",
      " - 0s - loss: 0.6939 - acc: 0.4870 - val_loss: 0.6965 - val_acc: 0.4490\n",
      "Epoch 4/100\n",
      " - 0s - loss: 0.6933 - acc: 0.5026 - val_loss: 0.6957 - val_acc: 0.4898\n",
      "Epoch 5/100\n",
      " - 0s - loss: 0.6926 - acc: 0.5078 - val_loss: 0.6949 - val_acc: 0.5102\n",
      "Epoch 6/100\n",
      " - 0s - loss: 0.6919 - acc: 0.5389 - val_loss: 0.6942 - val_acc: 0.5102\n",
      "Epoch 7/100\n",
      " - 0s - loss: 0.6913 - acc: 0.5648 - val_loss: 0.6934 - val_acc: 0.5102\n",
      "Epoch 8/100\n",
      " - 0s - loss: 0.6906 - acc: 0.5803 - val_loss: 0.6925 - val_acc: 0.5714\n",
      "Epoch 9/100\n",
      " - 0s - loss: 0.6900 - acc: 0.6218 - val_loss: 0.6916 - val_acc: 0.5714\n",
      "Epoch 10/100\n",
      " - 0s - loss: 0.6893 - acc: 0.6321 - val_loss: 0.6908 - val_acc: 0.5714\n",
      "Epoch 11/100\n",
      " - 0s - loss: 0.6886 - acc: 0.6684 - val_loss: 0.6898 - val_acc: 0.5918\n",
      "Epoch 12/100\n",
      " - 0s - loss: 0.6879 - acc: 0.6788 - val_loss: 0.6889 - val_acc: 0.6735\n",
      "Epoch 13/100\n",
      " - 0s - loss: 0.6871 - acc: 0.7409 - val_loss: 0.6879 - val_acc: 0.7551\n",
      "Epoch 14/100\n",
      " - 0s - loss: 0.6864 - acc: 0.7513 - val_loss: 0.6869 - val_acc: 0.7551\n",
      "Epoch 15/100\n",
      " - 0s - loss: 0.6857 - acc: 0.7772 - val_loss: 0.6858 - val_acc: 0.7755\n",
      "Epoch 16/100\n",
      " - 0s - loss: 0.6849 - acc: 0.8031 - val_loss: 0.6848 - val_acc: 0.7959\n",
      "Epoch 17/100\n",
      " - 0s - loss: 0.6841 - acc: 0.8083 - val_loss: 0.6837 - val_acc: 0.7959\n",
      "Epoch 18/100\n",
      " - 0s - loss: 0.6833 - acc: 0.8031 - val_loss: 0.6826 - val_acc: 0.7755\n",
      "Epoch 19/100\n",
      " - 0s - loss: 0.6824 - acc: 0.8031 - val_loss: 0.6814 - val_acc: 0.7755\n",
      "Epoch 20/100\n",
      " - 0s - loss: 0.6816 - acc: 0.7979 - val_loss: 0.6802 - val_acc: 0.7959\n",
      "Epoch 21/100\n",
      " - 0s - loss: 0.6807 - acc: 0.8083 - val_loss: 0.6790 - val_acc: 0.7959\n",
      "Epoch 22/100\n",
      " - 0s - loss: 0.6798 - acc: 0.8083 - val_loss: 0.6777 - val_acc: 0.7959\n",
      "Epoch 23/100\n",
      " - 0s - loss: 0.6788 - acc: 0.8083 - val_loss: 0.6764 - val_acc: 0.7959\n",
      "Epoch 24/100\n",
      " - 0s - loss: 0.6778 - acc: 0.8083 - val_loss: 0.6750 - val_acc: 0.7959\n",
      "Epoch 25/100\n",
      " - 0s - loss: 0.6768 - acc: 0.7979 - val_loss: 0.6736 - val_acc: 0.7959\n",
      "Epoch 26/100\n",
      " - 0s - loss: 0.6758 - acc: 0.7979 - val_loss: 0.6722 - val_acc: 0.8163\n",
      "Epoch 27/100\n",
      " - 0s - loss: 0.6747 - acc: 0.7979 - val_loss: 0.6707 - val_acc: 0.8367\n",
      "Epoch 28/100\n",
      " - 0s - loss: 0.6736 - acc: 0.8083 - val_loss: 0.6692 - val_acc: 0.8367\n",
      "Epoch 29/100\n",
      " - 0s - loss: 0.6725 - acc: 0.8083 - val_loss: 0.6676 - val_acc: 0.8571\n",
      "Epoch 30/100\n",
      " - 0s - loss: 0.6713 - acc: 0.8083 - val_loss: 0.6660 - val_acc: 0.8571\n",
      "Epoch 31/100\n",
      " - 0s - loss: 0.6701 - acc: 0.8083 - val_loss: 0.6643 - val_acc: 0.8571\n",
      "Epoch 32/100\n",
      " - 0s - loss: 0.6689 - acc: 0.8083 - val_loss: 0.6626 - val_acc: 0.8571\n",
      "Epoch 33/100\n",
      " - 0s - loss: 0.6676 - acc: 0.8083 - val_loss: 0.6608 - val_acc: 0.8571\n",
      "Epoch 34/100\n",
      " - 0s - loss: 0.6663 - acc: 0.8083 - val_loss: 0.6590 - val_acc: 0.8571\n",
      "Epoch 35/100\n",
      " - 0s - loss: 0.6649 - acc: 0.8031 - val_loss: 0.6572 - val_acc: 0.8571\n",
      "Epoch 36/100\n",
      " - 0s - loss: 0.6635 - acc: 0.8031 - val_loss: 0.6554 - val_acc: 0.8571\n",
      "Epoch 37/100\n",
      " - 0s - loss: 0.6621 - acc: 0.8031 - val_loss: 0.6535 - val_acc: 0.8571\n",
      "Epoch 38/100\n",
      " - 0s - loss: 0.6607 - acc: 0.8083 - val_loss: 0.6515 - val_acc: 0.8571\n",
      "Epoch 39/100\n",
      " - 0s - loss: 0.6592 - acc: 0.8083 - val_loss: 0.6495 - val_acc: 0.8571\n",
      "Epoch 40/100\n",
      " - 0s - loss: 0.6577 - acc: 0.8187 - val_loss: 0.6475 - val_acc: 0.8571\n",
      "Epoch 41/100\n",
      " - 0s - loss: 0.6561 - acc: 0.8238 - val_loss: 0.6454 - val_acc: 0.8571\n",
      "Epoch 42/100\n",
      " - 0s - loss: 0.6546 - acc: 0.8238 - val_loss: 0.6433 - val_acc: 0.8571\n",
      "Epoch 43/100\n",
      " - 0s - loss: 0.6529 - acc: 0.8187 - val_loss: 0.6412 - val_acc: 0.8571\n",
      "Epoch 44/100\n",
      " - 0s - loss: 0.6513 - acc: 0.8238 - val_loss: 0.6390 - val_acc: 0.8571\n",
      "Epoch 45/100\n",
      " - 0s - loss: 0.6496 - acc: 0.8238 - val_loss: 0.6367 - val_acc: 0.8571\n",
      "Epoch 46/100\n",
      " - 0s - loss: 0.6479 - acc: 0.8238 - val_loss: 0.6345 - val_acc: 0.8571\n",
      "Epoch 47/100\n",
      " - 0s - loss: 0.6462 - acc: 0.8238 - val_loss: 0.6322 - val_acc: 0.8571\n",
      "Epoch 48/100\n",
      " - 0s - loss: 0.6444 - acc: 0.8238 - val_loss: 0.6298 - val_acc: 0.8776\n",
      "Epoch 49/100\n",
      " - 0s - loss: 0.6425 - acc: 0.8238 - val_loss: 0.6274 - val_acc: 0.8776\n",
      "Epoch 50/100\n",
      " - 0s - loss: 0.6407 - acc: 0.8187 - val_loss: 0.6250 - val_acc: 0.8776\n",
      "Epoch 51/100\n",
      " - 0s - loss: 0.6388 - acc: 0.8187 - val_loss: 0.6225 - val_acc: 0.8776\n",
      "Epoch 52/100\n",
      " - 0s - loss: 0.6369 - acc: 0.8187 - val_loss: 0.6200 - val_acc: 0.8776\n",
      "Epoch 53/100\n",
      " - 0s - loss: 0.6350 - acc: 0.8187 - val_loss: 0.6175 - val_acc: 0.8776\n",
      "Epoch 54/100\n",
      " - 0s - loss: 0.6330 - acc: 0.8187 - val_loss: 0.6149 - val_acc: 0.8776\n",
      "Epoch 55/100\n",
      " - 0s - loss: 0.6310 - acc: 0.8238 - val_loss: 0.6123 - val_acc: 0.8776\n",
      "Epoch 56/100\n",
      " - 0s - loss: 0.6289 - acc: 0.8238 - val_loss: 0.6096 - val_acc: 0.8776\n",
      "Epoch 57/100\n",
      " - 0s - loss: 0.6269 - acc: 0.8238 - val_loss: 0.6070 - val_acc: 0.8776\n",
      "Epoch 58/100\n",
      " - 0s - loss: 0.6247 - acc: 0.8238 - val_loss: 0.6043 - val_acc: 0.8776\n",
      "Epoch 59/100\n",
      " - 0s - loss: 0.6226 - acc: 0.8238 - val_loss: 0.6015 - val_acc: 0.8776\n",
      "Epoch 60/100\n",
      " - 0s - loss: 0.6205 - acc: 0.8238 - val_loss: 0.5988 - val_acc: 0.8776\n",
      "Epoch 61/100\n",
      " - 0s - loss: 0.6183 - acc: 0.8238 - val_loss: 0.5960 - val_acc: 0.8776\n",
      "Epoch 62/100\n",
      " - 0s - loss: 0.6160 - acc: 0.8290 - val_loss: 0.5932 - val_acc: 0.8776\n",
      "Epoch 63/100\n",
      " - 0s - loss: 0.6138 - acc: 0.8238 - val_loss: 0.5903 - val_acc: 0.8776\n",
      "Epoch 64/100\n",
      " - 0s - loss: 0.6115 - acc: 0.8238 - val_loss: 0.5875 - val_acc: 0.8776\n",
      "Epoch 65/100\n",
      " - 0s - loss: 0.6092 - acc: 0.8238 - val_loss: 0.5846 - val_acc: 0.8776\n",
      "Epoch 66/100\n",
      " - 0s - loss: 0.6069 - acc: 0.8238 - val_loss: 0.5817 - val_acc: 0.8776\n",
      "Epoch 67/100\n",
      " - 0s - loss: 0.6045 - acc: 0.8238 - val_loss: 0.5788 - val_acc: 0.8776\n",
      "Epoch 68/100\n",
      " - 0s - loss: 0.6022 - acc: 0.8238 - val_loss: 0.5759 - val_acc: 0.8776\n",
      "Epoch 69/100\n",
      " - 0s - loss: 0.5998 - acc: 0.8238 - val_loss: 0.5729 - val_acc: 0.8776\n",
      "Epoch 70/100\n",
      " - 0s - loss: 0.5974 - acc: 0.8238 - val_loss: 0.5700 - val_acc: 0.8776\n",
      "Epoch 71/100\n",
      " - 0s - loss: 0.5950 - acc: 0.8238 - val_loss: 0.5671 - val_acc: 0.8776\n",
      "Epoch 72/100\n",
      " - 0s - loss: 0.5925 - acc: 0.8238 - val_loss: 0.5641 - val_acc: 0.8776\n",
      "Epoch 73/100\n",
      " - 0s - loss: 0.5901 - acc: 0.8238 - val_loss: 0.5612 - val_acc: 0.8776\n",
      "Epoch 74/100\n",
      " - 0s - loss: 0.5876 - acc: 0.8290 - val_loss: 0.5582 - val_acc: 0.8776\n",
      "Epoch 75/100\n",
      " - 0s - loss: 0.5851 - acc: 0.8290 - val_loss: 0.5552 - val_acc: 0.8776\n",
      "Epoch 76/100\n",
      " - 0s - loss: 0.5826 - acc: 0.8394 - val_loss: 0.5522 - val_acc: 0.8776\n",
      "Epoch 77/100\n",
      " - 0s - loss: 0.5800 - acc: 0.8394 - val_loss: 0.5492 - val_acc: 0.8776\n",
      "Epoch 78/100\n",
      " - 0s - loss: 0.5775 - acc: 0.8394 - val_loss: 0.5463 - val_acc: 0.8776\n",
      "Epoch 79/100\n",
      " - 0s - loss: 0.5750 - acc: 0.8342 - val_loss: 0.5433 - val_acc: 0.8776\n",
      "Epoch 80/100\n",
      " - 0s - loss: 0.5724 - acc: 0.8342 - val_loss: 0.5403 - val_acc: 0.8776\n",
      "Epoch 81/100\n",
      " - 0s - loss: 0.5698 - acc: 0.8342 - val_loss: 0.5373 - val_acc: 0.8776\n",
      "Epoch 82/100\n",
      " - 0s - loss: 0.5673 - acc: 0.8342 - val_loss: 0.5344 - val_acc: 0.8776\n",
      "Epoch 83/100\n",
      " - 0s - loss: 0.5647 - acc: 0.8342 - val_loss: 0.5314 - val_acc: 0.8776\n",
      "Epoch 84/100\n",
      " - 0s - loss: 0.5621 - acc: 0.8394 - val_loss: 0.5284 - val_acc: 0.8776\n",
      "Epoch 85/100\n",
      " - 0s - loss: 0.5595 - acc: 0.8394 - val_loss: 0.5254 - val_acc: 0.8776\n",
      "Epoch 86/100\n",
      " - 0s - loss: 0.5569 - acc: 0.8394 - val_loss: 0.5225 - val_acc: 0.8776\n",
      "Epoch 87/100\n",
      " - 0s - loss: 0.5542 - acc: 0.8394 - val_loss: 0.5195 - val_acc: 0.8776\n",
      "Epoch 88/100\n",
      " - 0s - loss: 0.5516 - acc: 0.8394 - val_loss: 0.5166 - val_acc: 0.8776\n",
      "Epoch 89/100\n",
      " - 0s - loss: 0.5490 - acc: 0.8342 - val_loss: 0.5137 - val_acc: 0.8776\n",
      "Epoch 90/100\n",
      " - 0s - loss: 0.5464 - acc: 0.8342 - val_loss: 0.5108 - val_acc: 0.8776\n",
      "Epoch 91/100\n",
      " - 0s - loss: 0.5438 - acc: 0.8342 - val_loss: 0.5079 - val_acc: 0.8776\n",
      "Epoch 92/100\n",
      " - 0s - loss: 0.5412 - acc: 0.8342 - val_loss: 0.5050 - val_acc: 0.8776\n",
      "Epoch 93/100\n",
      " - 0s - loss: 0.5386 - acc: 0.8290 - val_loss: 0.5022 - val_acc: 0.8776\n",
      "Epoch 94/100\n",
      " - 0s - loss: 0.5360 - acc: 0.8342 - val_loss: 0.4994 - val_acc: 0.8776\n",
      "Epoch 95/100\n",
      " - 0s - loss: 0.5334 - acc: 0.8342 - val_loss: 0.4966 - val_acc: 0.8776\n",
      "Epoch 96/100\n",
      " - 0s - loss: 0.5308 - acc: 0.8342 - val_loss: 0.4938 - val_acc: 0.8776\n"
     ]
    },
    {
     "name": "stdout",
     "output_type": "stream",
     "text": [
      "Epoch 97/100\n",
      " - 0s - loss: 0.5282 - acc: 0.8238 - val_loss: 0.4911 - val_acc: 0.8776\n",
      "Epoch 98/100\n",
      " - 0s - loss: 0.5257 - acc: 0.8238 - val_loss: 0.4884 - val_acc: 0.8776\n",
      "Epoch 99/100\n",
      " - 0s - loss: 0.5231 - acc: 0.8238 - val_loss: 0.4857 - val_acc: 0.8776\n",
      "Epoch 100/100\n",
      " - 0s - loss: 0.5206 - acc: 0.8238 - val_loss: 0.4830 - val_acc: 0.8776\n",
      "Wall time: 2.36 s\n"
     ]
    },
    {
     "data": {
      "text/plain": [
       "<keras.callbacks.History at 0x1c483e44470>"
      ]
     },
     "execution_count": 180,
     "metadata": {},
     "output_type": "execute_result"
    }
   ],
   "source": [
    "%%time\n",
    "model.fit(X_train_scaled, y_train, batch_size=200, epochs=100, validation_split=0.2, callbacks=[early_stopping, tensorboard], verbose=2);"
   ]
  },
  {
   "cell_type": "code",
   "execution_count": 181,
   "metadata": {},
   "outputs": [
    {
     "name": "stdout",
     "output_type": "stream",
     "text": [
      "Доля верных ответов на тестовых данных: 86.89%\n"
     ]
    }
   ],
   "source": [
    "scores = model.evaluate(X_test_scaled, y_test, verbose=0)\n",
    "print(\"Доля верных ответов на тестовых данных: %.2f%%\" % (scores[1]*100))"
   ]
  }
 ],
 "metadata": {
  "kernelspec": {
   "display_name": "Python 3",
   "language": "python",
   "name": "python3"
  },
  "language_info": {
   "codemirror_mode": {
    "name": "ipython",
    "version": 3
   },
   "file_extension": ".py",
   "mimetype": "text/x-python",
   "name": "python",
   "nbconvert_exporter": "python",
   "pygments_lexer": "ipython3",
   "version": "3.6.8"
  }
 },
 "nbformat": 4,
 "nbformat_minor": 2
}
